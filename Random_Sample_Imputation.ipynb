{
  "nbformat": 4,
  "nbformat_minor": 0,
  "metadata": {
    "colab": {
      "provenance": [],
      "authorship_tag": "ABX9TyOIOcwW51+lhCJG2zym+JM5",
      "include_colab_link": true
    },
    "kernelspec": {
      "name": "python3",
      "display_name": "Python 3"
    },
    "language_info": {
      "name": "python"
    }
  },
  "cells": [
    {
      "cell_type": "markdown",
      "metadata": {
        "id": "view-in-github",
        "colab_type": "text"
      },
      "source": [
        "<a href=\"https://colab.research.google.com/github/ABHISHEK2334/ABHISHEK-/blob/main/Random_Sample_Imputation.ipynb\" target=\"_parent\"><img src=\"https://colab.research.google.com/assets/colab-badge.svg\" alt=\"Open In Colab\"/></a>"
      ]
    },
    {
      "cell_type": "code",
      "execution_count": null,
      "metadata": {
        "id": "SdGRi7O6n4yK"
      },
      "outputs": [],
      "source": [
        "import pandas as pd\n",
        "import numpy as np\n",
        "\n",
        "# Example DataFrame with missing values\n",
        "data = \"/content/train.csv\"\n",
        "df = pd.read_csv(data,usecols=[\"Survived\",\"Age\",\"Fare\"])\n"
      ]
    },
    {
      "cell_type": "code",
      "source": [],
      "metadata": {
        "id": "PnGIOcIuOWQm"
      },
      "execution_count": null,
      "outputs": []
    },
    {
      "cell_type": "code",
      "source": [
        "df.isnull().mean()*100"
      ],
      "metadata": {
        "colab": {
          "base_uri": "https://localhost:8080/"
        },
        "id": "Yp5zITjCpyaT",
        "outputId": "38b0f310-993e-451a-c8ac-eb908d57591b"
      },
      "execution_count": null,
      "outputs": [
        {
          "output_type": "execute_result",
          "data": {
            "text/plain": [
              "Survived     0.00000\n",
              "Age         19.86532\n",
              "Fare         0.00000\n",
              "dtype: float64"
            ]
          },
          "metadata": {},
          "execution_count": 5
        }
      ]
    },
    {
      "cell_type": "code",
      "source": [
        "import pandas as pd\n",
        "import numpy as np\n",
        "\n",
        "# Example DataFrame with missing values\n",
        "data = \"/content/train.csv\"\n",
        "df = pd.read_csv(data,usecols=[\"Survived\",\"Age\",\"Fare\"])\n",
        "\n",
        "# Function to perform random sample imputation\n",
        "def random_sample_imputation(df, column):\n",
        "    # Get indices of missing values\n",
        "    missing_indices = df[df[column].isnull()].index\n",
        "    # Get indices of non-missing values\n",
        "    non_missing_indices = df[df[column].notnull()].index\n",
        "    # Randomly select samples from non-missing values\n",
        "    random_samples = np.random.choice(non_missing_indices, size=len(missing_indices))\n",
        "    # Fill missing values with random samples\n",
        "    df.loc[missing_indices, column] = df.loc[random_samples, column].values\n",
        "\n",
        "# Apply random sample imputation to each column with missing values\n",
        "for column in df.columns:\n",
        "    if df[column].isnull().sum() > 0:\n",
        "        random_sample_imputation(df, column)\n",
        "\n",
        "print(\"DataFrame after random sample imputation:\")\n",
        "print(df)\n"
      ],
      "metadata": {
        "colab": {
          "base_uri": "https://localhost:8080/"
        },
        "id": "kpcGzWqfpCda",
        "outputId": "b8d33120-d127-478f-93fa-53cdf4d969b5"
      },
      "execution_count": null,
      "outputs": [
        {
          "output_type": "stream",
          "name": "stdout",
          "text": [
            "DataFrame after random sample imputation:\n",
            "     Survived   Age     Fare\n",
            "0           0  22.0   7.2500\n",
            "1           1  38.0  71.2833\n",
            "2           1  26.0   7.9250\n",
            "3           1  35.0  53.1000\n",
            "4           0  35.0   8.0500\n",
            "..        ...   ...      ...\n",
            "886         0  27.0  13.0000\n",
            "887         1  19.0  30.0000\n",
            "888         0  21.0  23.4500\n",
            "889         1  26.0  30.0000\n",
            "890         0  32.0   7.7500\n",
            "\n",
            "[891 rows x 3 columns]\n"
          ]
        }
      ]
    },
    {
      "cell_type": "code",
      "source": [
        "df.isnull().mean()*100"
      ],
      "metadata": {
        "colab": {
          "base_uri": "https://localhost:8080/"
        },
        "id": "7ENneO8tp-Mi",
        "outputId": "bdad107b-4319-43aa-8e9e-f44e886cdda8"
      },
      "execution_count": null,
      "outputs": [
        {
          "output_type": "execute_result",
          "data": {
            "text/plain": [
              "Survived    0.0\n",
              "Age         0.0\n",
              "Fare        0.0\n",
              "dtype: float64"
            ]
          },
          "metadata": {},
          "execution_count": 7
        }
      ]
    },
    {
      "cell_type": "code",
      "source": [
        "import pandas as pd\n",
        "import numpy as np\n",
        "from sklearn.impute import SimpleImputer\n",
        "\n",
        "# Example DataFrame with missing values\n",
        "data = \"/content/train.csv\"\n",
        "df = pd.read_csv(data,usecols=[\"Survived\",\"Age\",\"Fare\"])\n",
        "\n",
        "# Identify columns with missing values\n",
        "columns_with_missing = df.columns[df.isnull().any()].tolist()\n",
        "\n",
        "# Initialize SimpleImputer\n",
        "imputer = SimpleImputer(strategy='mean')  # You can change the strategy as needed (mean, median, most_frequent, constant)\n",
        "\n",
        "# Fit and transform the imputer on the DataFrame\n",
        "df[columns_with_missing] = imputer.fit_transform(df[columns_with_missing])\n",
        "\n",
        "# Display the DataFrame with imputed values\n",
        "print(df)\n"
      ],
      "metadata": {
        "colab": {
          "base_uri": "https://localhost:8080/"
        },
        "id": "JYT2WO15OXoW",
        "outputId": "445134cc-2026-4dbf-fe8a-9e30560271be"
      },
      "execution_count": null,
      "outputs": [
        {
          "output_type": "stream",
          "name": "stdout",
          "text": [
            "     Survived        Age     Fare\n",
            "0           0  22.000000   7.2500\n",
            "1           1  38.000000  71.2833\n",
            "2           1  26.000000   7.9250\n",
            "3           1  35.000000  53.1000\n",
            "4           0  35.000000   8.0500\n",
            "..        ...        ...      ...\n",
            "886         0  27.000000  13.0000\n",
            "887         1  19.000000  30.0000\n",
            "888         0  29.699118  23.4500\n",
            "889         1  26.000000  30.0000\n",
            "890         0  32.000000   7.7500\n",
            "\n",
            "[891 rows x 3 columns]\n"
          ]
        }
      ]
    },
    {
      "cell_type": "code",
      "source": [
        "import pandas as pd\n",
        "import numpy as np\n",
        "path=\"/content/train.csv\"\n",
        "df=pd.read_csv(path)\n",
        "\n",
        "def random_sample_imputation(df,columns):\n",
        "  missing=df[df[column].isnull()].index"
      ],
      "metadata": {
        "id": "x_KVMJojzRaE"
      },
      "execution_count": 12,
      "outputs": []
    },
    {
      "cell_type": "code",
      "source": [
        " missing=df[df[column].isnull()].index\n",
        "missing"
      ],
      "metadata": {
        "colab": {
          "base_uri": "https://localhost:8080/"
        },
        "id": "pvbtTNsc0TNQ",
        "outputId": "0b3be9cd-a4ec-4ef3-ff72-7bd5a1dbd543"
      },
      "execution_count": 14,
      "outputs": [
        {
          "output_type": "execute_result",
          "data": {
            "text/plain": [
              "Int64Index([], dtype='int64')"
            ]
          },
          "metadata": {},
          "execution_count": 14
        }
      ]
    }
  ]
}